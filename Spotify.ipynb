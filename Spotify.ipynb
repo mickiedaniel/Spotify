{
 "cells": [
  {
   "cell_type": "code",
   "execution_count": 181,
   "id": "36ebf98d",
   "metadata": {},
   "outputs": [],
   "source": [
    "%matplotlib inline\n",
    "import numpy as np\n",
    "import pandas as pd\n",
    "import matplotlib.pyplot as plt\n",
    "import seaborn as sns"
   ]
  },
  {
   "cell_type": "code",
   "execution_count": 182,
   "id": "4d4e685a",
   "metadata": {},
   "outputs": [
    {
     "data": {
      "text/html": [
       "<div>\n",
       "<style scoped>\n",
       "    .dataframe tbody tr th:only-of-type {\n",
       "        vertical-align: middle;\n",
       "    }\n",
       "\n",
       "    .dataframe tbody tr th {\n",
       "        vertical-align: top;\n",
       "    }\n",
       "\n",
       "    .dataframe thead th {\n",
       "        text-align: right;\n",
       "    }\n",
       "</style>\n",
       "<table border=\"1\" class=\"dataframe\">\n",
       "  <thead>\n",
       "    <tr style=\"text-align: right;\">\n",
       "      <th></th>\n",
       "      <th>ts</th>\n",
       "      <th>username</th>\n",
       "      <th>platform</th>\n",
       "      <th>ms_played</th>\n",
       "      <th>conn_country</th>\n",
       "      <th>ip_addr_decrypted</th>\n",
       "      <th>user_agent_decrypted</th>\n",
       "      <th>master_metadata_track_name</th>\n",
       "      <th>master_metadata_album_artist_name</th>\n",
       "      <th>master_metadata_album_album_name</th>\n",
       "      <th>...</th>\n",
       "      <th>episode_name</th>\n",
       "      <th>episode_show_name</th>\n",
       "      <th>spotify_episode_uri</th>\n",
       "      <th>reason_start</th>\n",
       "      <th>reason_end</th>\n",
       "      <th>shuffle</th>\n",
       "      <th>skipped</th>\n",
       "      <th>offline</th>\n",
       "      <th>offline_timestamp</th>\n",
       "      <th>incognito_mode</th>\n",
       "    </tr>\n",
       "  </thead>\n",
       "  <tbody>\n",
       "    <tr>\n",
       "      <th>0</th>\n",
       "      <td>2018-08-03T18:46:51Z</td>\n",
       "      <td>mickie_daniel</td>\n",
       "      <td>Android OS 7.1.2 API 25 (Xiaomi, Redmi 4X)</td>\n",
       "      <td>92315</td>\n",
       "      <td>BR</td>\n",
       "      <td>177.125.173.64</td>\n",
       "      <td>unknown</td>\n",
       "      <td>Pa Parará</td>\n",
       "      <td>Jaloo</td>\n",
       "      <td>#1</td>\n",
       "      <td>...</td>\n",
       "      <td>None</td>\n",
       "      <td>None</td>\n",
       "      <td>None</td>\n",
       "      <td>trackdone</td>\n",
       "      <td>endplay</td>\n",
       "      <td>True</td>\n",
       "      <td>NaN</td>\n",
       "      <td>False</td>\n",
       "      <td>1533321914984</td>\n",
       "      <td>False</td>\n",
       "    </tr>\n",
       "    <tr>\n",
       "      <th>1</th>\n",
       "      <td>2018-10-10T10:52:18Z</td>\n",
       "      <td>mickie_daniel</td>\n",
       "      <td>Android OS 7.1.2 API 25 (Xiaomi, Redmi 4X)</td>\n",
       "      <td>1068</td>\n",
       "      <td>BR</td>\n",
       "      <td>189.40.91.120</td>\n",
       "      <td>unknown</td>\n",
       "      <td>Hindi Sad Diamonds - From \"Moulin Rouge\" Sound...</td>\n",
       "      <td>John Leguizamo</td>\n",
       "      <td>Moulin Rouge</td>\n",
       "      <td>...</td>\n",
       "      <td>None</td>\n",
       "      <td>None</td>\n",
       "      <td>None</td>\n",
       "      <td>fwdbtn</td>\n",
       "      <td>fwdbtn</td>\n",
       "      <td>True</td>\n",
       "      <td>NaN</td>\n",
       "      <td>True</td>\n",
       "      <td>1539168015164</td>\n",
       "      <td>False</td>\n",
       "    </tr>\n",
       "    <tr>\n",
       "      <th>2</th>\n",
       "      <td>2018-07-26T17:52:54Z</td>\n",
       "      <td>mickie_daniel</td>\n",
       "      <td>Android OS 7.1.2 API 25 (Xiaomi, Redmi 4X)</td>\n",
       "      <td>212693</td>\n",
       "      <td>BR</td>\n",
       "      <td>170.244.197.98</td>\n",
       "      <td>unknown</td>\n",
       "      <td>Sissy That Walk</td>\n",
       "      <td>RuPaul</td>\n",
       "      <td>Born Naked</td>\n",
       "      <td>...</td>\n",
       "      <td>None</td>\n",
       "      <td>None</td>\n",
       "      <td>None</td>\n",
       "      <td>clickrow</td>\n",
       "      <td>trackdone</td>\n",
       "      <td>False</td>\n",
       "      <td>NaN</td>\n",
       "      <td>False</td>\n",
       "      <td>1532627362385</td>\n",
       "      <td>False</td>\n",
       "    </tr>\n",
       "    <tr>\n",
       "      <th>3</th>\n",
       "      <td>2018-07-18T18:08:38Z</td>\n",
       "      <td>mickie_daniel</td>\n",
       "      <td>Android OS 7.1.2 API 25 (Xiaomi, Redmi 4X)</td>\n",
       "      <td>2926</td>\n",
       "      <td>BR</td>\n",
       "      <td>177.125.173.65</td>\n",
       "      <td>unknown</td>\n",
       "      <td>Perfectly Wrong</td>\n",
       "      <td>Shawn Mendes</td>\n",
       "      <td>Shawn Mendes</td>\n",
       "      <td>...</td>\n",
       "      <td>None</td>\n",
       "      <td>None</td>\n",
       "      <td>None</td>\n",
       "      <td>fwdbtn</td>\n",
       "      <td>fwdbtn</td>\n",
       "      <td>True</td>\n",
       "      <td>NaN</td>\n",
       "      <td>False</td>\n",
       "      <td>1531937315967</td>\n",
       "      <td>False</td>\n",
       "    </tr>\n",
       "    <tr>\n",
       "      <th>4</th>\n",
       "      <td>2019-10-13T20:10:19Z</td>\n",
       "      <td>mickie_daniel</td>\n",
       "      <td>Android OS 9 API 28 (motorola, motorola one)</td>\n",
       "      <td>183893</td>\n",
       "      <td>BR</td>\n",
       "      <td>189.40.72.147</td>\n",
       "      <td>unknown</td>\n",
       "      <td>Fluorescent Adolescent</td>\n",
       "      <td>Arctic Monkeys</td>\n",
       "      <td>Favourite Worst Nightmare</td>\n",
       "      <td>...</td>\n",
       "      <td>None</td>\n",
       "      <td>None</td>\n",
       "      <td>None</td>\n",
       "      <td>playbtn</td>\n",
       "      <td>trackdone</td>\n",
       "      <td>True</td>\n",
       "      <td>NaN</td>\n",
       "      <td>True</td>\n",
       "      <td>1570983287565</td>\n",
       "      <td>False</td>\n",
       "    </tr>\n",
       "  </tbody>\n",
       "</table>\n",
       "<p>5 rows × 21 columns</p>\n",
       "</div>"
      ],
      "text/plain": [
       "                     ts       username  \\\n",
       "0  2018-08-03T18:46:51Z  mickie_daniel   \n",
       "1  2018-10-10T10:52:18Z  mickie_daniel   \n",
       "2  2018-07-26T17:52:54Z  mickie_daniel   \n",
       "3  2018-07-18T18:08:38Z  mickie_daniel   \n",
       "4  2019-10-13T20:10:19Z  mickie_daniel   \n",
       "\n",
       "                                       platform  ms_played conn_country  \\\n",
       "0    Android OS 7.1.2 API 25 (Xiaomi, Redmi 4X)      92315           BR   \n",
       "1    Android OS 7.1.2 API 25 (Xiaomi, Redmi 4X)       1068           BR   \n",
       "2    Android OS 7.1.2 API 25 (Xiaomi, Redmi 4X)     212693           BR   \n",
       "3    Android OS 7.1.2 API 25 (Xiaomi, Redmi 4X)       2926           BR   \n",
       "4  Android OS 9 API 28 (motorola, motorola one)     183893           BR   \n",
       "\n",
       "  ip_addr_decrypted user_agent_decrypted  \\\n",
       "0    177.125.173.64              unknown   \n",
       "1     189.40.91.120              unknown   \n",
       "2    170.244.197.98              unknown   \n",
       "3    177.125.173.65              unknown   \n",
       "4     189.40.72.147              unknown   \n",
       "\n",
       "                          master_metadata_track_name  \\\n",
       "0                                          Pa Parará   \n",
       "1  Hindi Sad Diamonds - From \"Moulin Rouge\" Sound...   \n",
       "2                                    Sissy That Walk   \n",
       "3                                    Perfectly Wrong   \n",
       "4                             Fluorescent Adolescent   \n",
       "\n",
       "  master_metadata_album_artist_name master_metadata_album_album_name  ...  \\\n",
       "0                             Jaloo                               #1  ...   \n",
       "1                    John Leguizamo                     Moulin Rouge  ...   \n",
       "2                            RuPaul                       Born Naked  ...   \n",
       "3                      Shawn Mendes                     Shawn Mendes  ...   \n",
       "4                    Arctic Monkeys        Favourite Worst Nightmare  ...   \n",
       "\n",
       "  episode_name episode_show_name spotify_episode_uri reason_start reason_end  \\\n",
       "0         None              None                None    trackdone    endplay   \n",
       "1         None              None                None       fwdbtn     fwdbtn   \n",
       "2         None              None                None     clickrow  trackdone   \n",
       "3         None              None                None       fwdbtn     fwdbtn   \n",
       "4         None              None                None      playbtn  trackdone   \n",
       "\n",
       "  shuffle  skipped  offline  offline_timestamp  incognito_mode  \n",
       "0    True      NaN    False      1533321914984           False  \n",
       "1    True      NaN     True      1539168015164           False  \n",
       "2   False      NaN    False      1532627362385           False  \n",
       "3    True      NaN    False      1531937315967           False  \n",
       "4    True      NaN     True      1570983287565           False  \n",
       "\n",
       "[5 rows x 21 columns]"
      ]
     },
     "execution_count": 182,
     "metadata": {},
     "output_type": "execute_result"
    }
   ],
   "source": [
    "df_track = pd.read_json('endsong_0.json')\n",
    "df_track.head()"
   ]
  },
  {
   "cell_type": "code",
   "execution_count": 183,
   "id": "a5bcc076",
   "metadata": {},
   "outputs": [
    {
     "data": {
      "text/html": [
       "<div>\n",
       "<style scoped>\n",
       "    .dataframe tbody tr th:only-of-type {\n",
       "        vertical-align: middle;\n",
       "    }\n",
       "\n",
       "    .dataframe tbody tr th {\n",
       "        vertical-align: top;\n",
       "    }\n",
       "\n",
       "    .dataframe thead th {\n",
       "        text-align: right;\n",
       "    }\n",
       "</style>\n",
       "<table border=\"1\" class=\"dataframe\">\n",
       "  <thead>\n",
       "    <tr style=\"text-align: right;\">\n",
       "      <th></th>\n",
       "      <th>ms_played</th>\n",
       "      <th>skipped</th>\n",
       "      <th>offline_timestamp</th>\n",
       "    </tr>\n",
       "  </thead>\n",
       "  <tbody>\n",
       "    <tr>\n",
       "      <th>count</th>\n",
       "      <td>1.585600e+04</td>\n",
       "      <td>1891.000000</td>\n",
       "      <td>1.585600e+04</td>\n",
       "    </tr>\n",
       "    <tr>\n",
       "      <th>mean</th>\n",
       "      <td>1.285738e+05</td>\n",
       "      <td>0.305658</td>\n",
       "      <td>1.129812e+12</td>\n",
       "    </tr>\n",
       "    <tr>\n",
       "      <th>std</th>\n",
       "      <td>1.627353e+05</td>\n",
       "      <td>0.460808</td>\n",
       "      <td>7.140245e+11</td>\n",
       "    </tr>\n",
       "    <tr>\n",
       "      <th>min</th>\n",
       "      <td>0.000000e+00</td>\n",
       "      <td>0.000000</td>\n",
       "      <td>0.000000e+00</td>\n",
       "    </tr>\n",
       "    <tr>\n",
       "      <th>25%</th>\n",
       "      <td>3.883750e+03</td>\n",
       "      <td>0.000000</td>\n",
       "      <td>1.671226e+09</td>\n",
       "    </tr>\n",
       "    <tr>\n",
       "      <th>50%</th>\n",
       "      <td>1.366445e+05</td>\n",
       "      <td>0.000000</td>\n",
       "      <td>1.541026e+12</td>\n",
       "    </tr>\n",
       "    <tr>\n",
       "      <th>75%</th>\n",
       "      <td>2.123105e+05</td>\n",
       "      <td>1.000000</td>\n",
       "      <td>1.625951e+12</td>\n",
       "    </tr>\n",
       "    <tr>\n",
       "      <th>max</th>\n",
       "      <td>6.203840e+06</td>\n",
       "      <td>1.000000</td>\n",
       "      <td>1.665768e+12</td>\n",
       "    </tr>\n",
       "  </tbody>\n",
       "</table>\n",
       "</div>"
      ],
      "text/plain": [
       "          ms_played      skipped  offline_timestamp\n",
       "count  1.585600e+04  1891.000000       1.585600e+04\n",
       "mean   1.285738e+05     0.305658       1.129812e+12\n",
       "std    1.627353e+05     0.460808       7.140245e+11\n",
       "min    0.000000e+00     0.000000       0.000000e+00\n",
       "25%    3.883750e+03     0.000000       1.671226e+09\n",
       "50%    1.366445e+05     0.000000       1.541026e+12\n",
       "75%    2.123105e+05     1.000000       1.625951e+12\n",
       "max    6.203840e+06     1.000000       1.665768e+12"
      ]
     },
     "execution_count": 183,
     "metadata": {},
     "output_type": "execute_result"
    }
   ],
   "source": [
    "df_track.describe()"
   ]
  },
  {
   "cell_type": "code",
   "execution_count": 184,
   "id": "b72b4a37",
   "metadata": {},
   "outputs": [
    {
     "name": "stdout",
     "output_type": "stream",
     "text": [
      "<class 'pandas.core.frame.DataFrame'>\n",
      "RangeIndex: 15856 entries, 0 to 15855\n",
      "Data columns (total 21 columns):\n",
      " #   Column                             Non-Null Count  Dtype  \n",
      "---  ------                             --------------  -----  \n",
      " 0   ts                                 15856 non-null  object \n",
      " 1   username                           15856 non-null  object \n",
      " 2   platform                           15856 non-null  object \n",
      " 3   ms_played                          15856 non-null  int64  \n",
      " 4   conn_country                       15856 non-null  object \n",
      " 5   ip_addr_decrypted                  15856 non-null  object \n",
      " 6   user_agent_decrypted               14412 non-null  object \n",
      " 7   master_metadata_track_name         13908 non-null  object \n",
      " 8   master_metadata_album_artist_name  13908 non-null  object \n",
      " 9   master_metadata_album_album_name   13908 non-null  object \n",
      " 10  spotify_track_uri                  13908 non-null  object \n",
      " 11  episode_name                       99 non-null     object \n",
      " 12  episode_show_name                  99 non-null     object \n",
      " 13  spotify_episode_uri                99 non-null     object \n",
      " 14  reason_start                       15856 non-null  object \n",
      " 15  reason_end                         15856 non-null  object \n",
      " 16  shuffle                            15856 non-null  bool   \n",
      " 17  skipped                            1891 non-null   float64\n",
      " 18  offline                            15856 non-null  bool   \n",
      " 19  offline_timestamp                  15856 non-null  int64  \n",
      " 20  incognito_mode                     15856 non-null  bool   \n",
      "dtypes: bool(3), float64(1), int64(2), object(15)\n",
      "memory usage: 2.2+ MB\n"
     ]
    }
   ],
   "source": [
    "df_track.info()"
   ]
  },
  {
   "cell_type": "code",
   "execution_count": 185,
   "id": "08faca3f",
   "metadata": {},
   "outputs": [
    {
     "data": {
      "text/plain": [
       "ts                                       0\n",
       "username                                 0\n",
       "platform                                 0\n",
       "ms_played                                0\n",
       "conn_country                             0\n",
       "ip_addr_decrypted                        0\n",
       "user_agent_decrypted                  1444\n",
       "master_metadata_track_name            1948\n",
       "master_metadata_album_artist_name     1948\n",
       "master_metadata_album_album_name      1948\n",
       "spotify_track_uri                     1948\n",
       "episode_name                         15757\n",
       "episode_show_name                    15757\n",
       "spotify_episode_uri                  15757\n",
       "reason_start                             0\n",
       "reason_end                               0\n",
       "shuffle                                  0\n",
       "skipped                              13965\n",
       "offline                                  0\n",
       "offline_timestamp                        0\n",
       "incognito_mode                           0\n",
       "dtype: int64"
      ]
     },
     "execution_count": 185,
     "metadata": {},
     "output_type": "execute_result"
    }
   ],
   "source": [
    "df_track.isnull().sum()"
   ]
  },
  {
   "cell_type": "code",
   "execution_count": 186,
   "id": "c594014d",
   "metadata": {},
   "outputs": [],
   "source": [
    "## é preciso preencher os null pois alguns modelos de machine learning dão erro com valores nulls\n",
    "df_track.fillna(0, inplace=True)"
   ]
  },
  {
   "cell_type": "code",
   "execution_count": 187,
   "id": "d8537913",
   "metadata": {},
   "outputs": [
    {
     "data": {
      "text/plain": [
       "ts                                   0\n",
       "username                             0\n",
       "platform                             0\n",
       "ms_played                            0\n",
       "conn_country                         0\n",
       "ip_addr_decrypted                    0\n",
       "user_agent_decrypted                 0\n",
       "master_metadata_track_name           0\n",
       "master_metadata_album_artist_name    0\n",
       "master_metadata_album_album_name     0\n",
       "spotify_track_uri                    0\n",
       "episode_name                         0\n",
       "episode_show_name                    0\n",
       "spotify_episode_uri                  0\n",
       "reason_start                         0\n",
       "reason_end                           0\n",
       "shuffle                              0\n",
       "skipped                              0\n",
       "offline                              0\n",
       "offline_timestamp                    0\n",
       "incognito_mode                       0\n",
       "dtype: int64"
      ]
     },
     "execution_count": 187,
     "metadata": {},
     "output_type": "execute_result"
    }
   ],
   "source": [
    "df_track.isnull().sum()"
   ]
  },
  {
   "cell_type": "code",
   "execution_count": 188,
   "id": "18353fc9",
   "metadata": {},
   "outputs": [
    {
     "data": {
      "text/plain": [
       "True     9240\n",
       "False    6616\n",
       "Name: shuffle, dtype: int64"
      ]
     },
     "execution_count": 188,
     "metadata": {},
     "output_type": "execute_result"
    }
   ],
   "source": [
    "##verifica quantas faixas foram no modo aleatorio\n",
    "df_track.shuffle.value_counts(sort = False)"
   ]
  },
  {
   "cell_type": "code",
   "execution_count": 189,
   "id": "14b7560e",
   "metadata": {},
   "outputs": [
    {
     "name": "stdout",
     "output_type": "stream",
     "text": [
      "Android OS 7.1.2 API 25 (Xiaomi, Redmi 4X)                                       4665\n",
      "Android OS 10 API 29 (motorola, motorola one)                                    3968\n",
      "Android OS 9 API 28 (motorola, motorola one)                                     1415\n",
      "Partner amazon_salmon Amazon;Echo_Dot;27d4dfe427b34d57995b463e5d63198d;;tpapi     932\n",
      "android                                                                           911\n",
      "Android OS 8.0.0 API 26 (motorola, Moto Z2 Play)                                  846\n",
      "not_applicable                                                                    467\n",
      "Android OS 6.0 API 23 (motorola, XT1068)                                          425\n",
      "windows                                                                           359\n",
      "Android OS 4.1.2 API 16 (samsung, GT-S5310B)                                      229\n",
      "web_player windows 10;chrome 103.0.0.0;desktop                                    180\n",
      "web_player windows 10;chrome 102.0.0.0;desktop                                    159\n",
      "Windows 10 (10.0.10586; x64)                                                      155\n",
      "web_player windows 10;chrome 100.0.4896.127;desktop                               148\n",
      "web_player windows 10;chrome 99.0.4844.84;desktop                                 107\n",
      "web_player windows 10;chrome 104.0.0.0;desktop                                     97\n",
      "web_player windows 10;chrome 90.0.4430.212;desktop                                 85\n",
      "web_player windows 10;chrome 101.0.4951.54;desktop                                 85\n",
      "Windows 10 (10.0.14393; x64)                                                       81\n",
      "web_player windows 10;chrome 99.0.4844.82;desktop                                  61\n",
      "Partner android_tv Amazon;AFTSS;756a522d9f1648b89e76e80be654456a;;tpapi            52\n",
      "Windows 10 (10.0.16299; x64)                                                       46\n",
      "web_player windows 10;chrome 104.0.5112.102;desktop                                46\n",
      "web_player windows 10;chrome 100.0.4896.75;desktop                                 38\n",
      "web_player windows 10;chrome 97.0.4692.71;desktop                                  36\n",
      "web_player windows 10;chrome 105.0.0.0;desktop                                     33\n",
      "web_player windows 10;chrome 101.0.4951.67;desktop                                 25\n",
      "web_player windows 10;chrome 102.0.5005.61;desktop                                 17\n",
      "Partner tizen_tv samsung;UN50MU6100;568a50c7e7f64fe3b44a3316ef5590fd;              14\n",
      "web_player windows 10;chrome 91.0.4472.77;desktop                                  14\n",
      "Partner spotify web_player                                                         14\n",
      "Windows 10 (10.0.17134; x64)                                                       14\n",
      "Windows 10 (10.0.19043; x64; AppX)                                                 14\n",
      "web_player windows 10;chrome 75.0.3770.100;desktop                                 13\n",
      "web_player windows 10;chrome 102.0.5005.63;desktop                                 13\n",
      "web_player windows 10;chrome 71.0;desktop                                          11\n",
      "web_player windows 10;chrome 68.0;desktop                                          10\n",
      "web_player windows 10;chrome 75.0.3770.142;desktop                                  9\n",
      "web_player windows 10;chrome 77.0.3865.90;desktop                                   8\n",
      "Android OS 6.0 API 23 (motorola, XT1078)                                            6\n",
      "web_player windows 10;chrome 98.0.4758.102;desktop                                  6\n",
      "web_player windows 10;chrome 105.0.5195.127;desktop                                 5\n",
      "web_player windows 8;chrome 76.0.3809.100;desktop                                   5\n",
      "web_player windows 10;chrome 94.0.4606.81;desktop                                   5\n",
      "web_player windows 10;chrome 99.0.4844.51;desktop                                   5\n",
      "web_player windows 10;chrome 88.0.4324.192;desktop                                  4\n",
      "web_player windows 10;chrome 78.0.3904.108;embed                                    4\n",
      "web_player windows 10;chrome 76.0.3809.132;desktop                                  3\n",
      "Android-tablet OS 10 API 29 (SAMSUNG, SM-T866N)                                     2\n",
      "web_player windows 10;chrome 78.0.3904.97;desktop                                   2\n",
      "web_player windows 10;chrome 74.0.3729.169;desktop                                  2\n",
      "Windows 10 (10.0.15063; x64)                                                        2\n",
      "Android OS 6.0.1 API 23 (Xiaomi, Redmi 4X)                                          2\n",
      "web_player android 9;chrome 76.0.3809.132;mobile                                    1\n",
      "Name: platform, dtype: int64\n"
     ]
    }
   ],
   "source": [
    "df_plataform = df_track['platform'].value_counts()\n",
    "print(df_plataform)"
   ]
  },
  {
   "cell_type": "code",
   "execution_count": 190,
   "id": "9c54833b",
   "metadata": {},
   "outputs": [
    {
     "data": {
      "text/plain": [
       "Android OS 7.1.2 API 25 (Xiaomi, Redmi 4X)                                       4665\n",
       "Android OS 10 API 29 (motorola, motorola one)                                    3968\n",
       "Android OS 9 API 28 (motorola, motorola one)                                     1415\n",
       "Partner amazon_salmon Amazon;Echo_Dot;27d4dfe427b34d57995b463e5d63198d;;tpapi     932\n",
       "android                                                                           911\n",
       "Name: platform, dtype: int64"
      ]
     },
     "execution_count": 190,
     "metadata": {},
     "output_type": "execute_result"
    }
   ],
   "source": [
    "df_plataform.head(5)"
   ]
  },
  {
   "cell_type": "code",
   "execution_count": 191,
   "id": "2d688819",
   "metadata": {},
   "outputs": [
    {
     "ename": "SyntaxError",
     "evalue": "invalid syntax (1019522640.py, line 1)",
     "output_type": "error",
     "traceback": [
      "\u001b[1;36m  Cell \u001b[1;32mIn[191], line 1\u001b[1;36m\u001b[0m\n\u001b[1;33m    df_plataform[] = df_plataform[\"Android OS 7.1.2 API 25 (Xiaomi, Redmi 4X)\"] + df_plataform[\"Android OS 10 API 29 (motorola, motorola one)\"]\u001b[0m\n\u001b[1;37m                 ^\u001b[0m\n\u001b[1;31mSyntaxError\u001b[0m\u001b[1;31m:\u001b[0m invalid syntax\n"
     ]
    }
   ],
   "source": [
    "df_plataform[] = df_plataform[\"Android OS 7.1.2 API 25 (Xiaomi, Redmi 4X)\"] + df_plataform[\"Android OS 10 API 29 (motorola, motorola one)\"]"
   ]
  },
  {
   "cell_type": "code",
   "execution_count": null,
   "id": "585fdf68",
   "metadata": {},
   "outputs": [],
   "source": [
    "x = \"Android\"\n",
    "y = \"android\"\n",
    "df_track_android = df_track[df_track[\"platform\"].str.startswith(x, y)]"
   ]
  },
  {
   "cell_type": "code",
   "execution_count": null,
   "id": "89ff43cf",
   "metadata": {},
   "outputs": [],
   "source": [
    "df_track_android.info()"
   ]
  },
  {
   "cell_type": "code",
   "execution_count": null,
   "id": "bc179a31",
   "metadata": {},
   "outputs": [],
   "source": [
    "df_track_windows = df_track[df_track[\"platform\"].str.startswith(\"windows\", \"Windows\")]\n",
    "df_track_windows.info()"
   ]
  },
  {
   "cell_type": "code",
   "execution_count": null,
   "id": "daf28e76",
   "metadata": {},
   "outputs": [],
   "source": [
    "len(df_track_windows)"
   ]
  },
  {
   "cell_type": "code",
   "execution_count": null,
   "id": "1a5c29b7",
   "metadata": {},
   "outputs": [],
   "source": [
    "df_track_web = df_track[df_track[\"platform\"].str.startswith(\"web_player\")]\n",
    "len(df_track_web)"
   ]
  },
  {
   "cell_type": "code",
   "execution_count": null,
   "id": "c82c672c",
   "metadata": {},
   "outputs": [],
   "source": [
    "df_track_partner = df_track[df_track[\"platform\"].str.startswith(\"Partner\")]\n",
    "len(df_track_partner)"
   ]
  },
  {
   "cell_type": "code",
   "execution_count": null,
   "id": "fad0072d",
   "metadata": {},
   "outputs": [],
   "source": [
    "df_track_not_applicable = df_track[df_track[\"platform\"].str.startswith(\"not_\")]\n",
    "len(df_track_not_applicable)"
   ]
  },
  {
   "cell_type": "code",
   "execution_count": null,
   "id": "b943e607",
   "metadata": {},
   "outputs": [],
   "source": [
    "platforms = {'Platforms': ['Not_applicable', 'Partners', 'Web_player', 'Windows', 'Android'],\n",
    "             'Plays': [467, 1012, 1237, 359, 11558]}\n",
    "df_platforms = pd.DataFrame.from_dict(platforms, orient='columns')\n",
    "df_platforms"
   ]
  },
  {
   "cell_type": "code",
   "execution_count": null,
   "id": "586b5035",
   "metadata": {},
   "outputs": [],
   "source": [
    "print(df_platforms.sort_values(by=['Plays']))"
   ]
  },
  {
   "cell_type": "code",
   "execution_count": 193,
   "id": "c3ada0be",
   "metadata": {},
   "outputs": [
    {
     "data": {
      "image/png": "[encoded data removed]",
      "text/plain": [
       "<Figure size 640x480 with 1 Axes>"
      ]
     },
     "metadata": {},
     "output_type": "display_data"
    }
   ],
   "source": [
    "fig, ax = plt.subplots()\n",
    "\n",
    "platform = ['Not_applicable', 'Partners', 'Web_player', 'Windows', 'Android']\n",
    "counts = [467, 1012, 1237, 359, 11558]\n",
    "bar_labels = ['red', 'blue', 'green', 'purple', 'orange']\n",
    "bar_colors = ['tab:red', 'tab:blue', 'tab:green', 'tab:purple', 'tab:orange']\n",
    "\n",
    "ax.bar(platform, counts, label=bar_labels, color=bar_colors)\n",
    "\n",
    "ax.set_ylabel('Quantidade de plays em cada plataforma')\n",
    "ax.set_title('Plays em cada plataforma')\n",
    "ax.legend(title=\"Platformas\")\n",
    "\n",
    "plt.show()"
   ]
  },
  {
   "cell_type": "code",
   "execution_count": null,
   "id": "0ac109c4",
   "metadata": {},
   "outputs": [],
   "source": [
    "ts = df_track['ts']\n",
    "ts"
   ]
  },
  {
   "cell_type": "code",
   "execution_count": null,
   "id": "9c903d17",
   "metadata": {},
   "outputs": [],
   "source": [
    "ts = pd.to_datetime(ts)\n",
    "ts"
   ]
  },
  {
   "cell_type": "code",
   "execution_count": null,
   "id": "0a92b97c",
   "metadata": {},
   "outputs": [],
   "source": [
    "hours = ts.dt.hour"
   ]
  },
  {
   "cell_type": "code",
   "execution_count": null,
   "id": "0d73f3fe",
   "metadata": {},
   "outputs": [],
   "source": [
    "hours = hours.value_counts()"
   ]
  },
  {
   "cell_type": "code",
   "execution_count": null,
   "id": "edb9ae0b",
   "metadata": {},
   "outputs": [],
   "source": [
    "hours.sort_values(ascending=True)\n",
    "hours = hours.sort_index()\n",
    "hours"
   ]
  },
  {
   "cell_type": "code",
   "execution_count": 197,
   "id": "a43c0f52",
   "metadata": {},
   "outputs": [
    {
     "data": {
      "text/plain": [
       "<function matplotlib.pyplot.show(close=None, block=None)>"
      ]
     },
     "execution_count": 197,
     "metadata": {},
     "output_type": "execute_result"
    },
    {
     "data": {
      "image/png": "[encoded data removed]",
      "text/plain": [
       "<Figure size 640x480 with 1 Axes>"
      ]
     },
     "metadata": {},
     "output_type": "display_data"
    }
   ],
   "source": [
    "hours.plot(kind='bar', x='index', y='ts', color='red', title='Músicas tocadas por hora', ylabel='Plays', xlabel='Horário')\n",
    "plt.show"
   ]
  },
  {
   "cell_type": "code",
   "execution_count": null,
   "id": "4bb147a1",
   "metadata": {},
   "outputs": [],
   "source": []
  }
 ],
 "metadata": {
  "kernelspec": {
   "display_name": "Python 3 (ipykernel)",
   "language": "python",
   "name": "python3"
  },
  "language_info": {
   "codemirror_mode": {
    "name": "ipython",
    "version": 3
   },
   "file_extension": ".py",
   "mimetype": "text/x-python",
   "name": "python",
   "nbconvert_exporter": "python",
   "pygments_lexer": "ipython3",
   "version": "3.11.2"
  }
 },
 "nbformat": 4,
 "nbformat_minor": 5
}
